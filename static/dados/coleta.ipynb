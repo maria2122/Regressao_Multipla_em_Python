{
 "cells": [
  {
   "attachments": {},
   "cell_type": "markdown",
   "metadata": {},
   "source": [
    "### Coleta dados"
   ]
  },
  {
   "cell_type": "code",
   "execution_count": 208,
   "metadata": {},
   "outputs": [
    {
     "name": "stdout",
     "output_type": "stream",
     "text": [
      "Requirement already satisfied: pandas in c:\\python\\lib\\site-packages (1.5.1)\n",
      "Requirement already satisfied: pytz>=2020.1 in c:\\python\\lib\\site-packages (from pandas) (2022.6)\n",
      "Requirement already satisfied: numpy>=1.21.0 in c:\\python\\lib\\site-packages (from pandas) (1.23.1)\n",
      "Requirement already satisfied: python-dateutil>=2.8.1 in c:\\python\\lib\\site-packages (from pandas) (2.8.2)\n",
      "Requirement already satisfied: six>=1.5 in c:\\python\\lib\\site-packages (from python-dateutil>=2.8.1->pandas) (1.16.0)\n"
     ]
    },
    {
     "name": "stderr",
     "output_type": "stream",
     "text": [
      "WARNING: There was an error checking the latest version of pip.\n"
     ]
    }
   ],
   "source": [
    "!pip install pandas"
   ]
  },
  {
   "cell_type": "code",
   "execution_count": 209,
   "metadata": {},
   "outputs": [
    {
     "name": "stdout",
     "output_type": "stream",
     "text": [
      "Requirement already satisfied: matplotlib in c:\\python\\lib\\site-packages (3.5.2)\n",
      "Requirement already satisfied: cycler>=0.10 in c:\\python\\lib\\site-packages (from matplotlib) (0.11.0)\n",
      "Requirement already satisfied: pyparsing>=2.2.1 in c:\\python\\lib\\site-packages (from matplotlib) (3.0.9)\n",
      "Requirement already satisfied: packaging>=20.0 in c:\\python\\lib\\site-packages (from matplotlib) (20.9)\n",
      "Requirement already satisfied: fonttools>=4.22.0 in c:\\python\\lib\\site-packages (from matplotlib) (4.34.4)\n",
      "Requirement already satisfied: pillow>=6.2.0 in c:\\python\\lib\\site-packages (from matplotlib) (9.2.0)\n",
      "Requirement already satisfied: kiwisolver>=1.0.1 in c:\\python\\lib\\site-packages (from matplotlib) (1.4.4)\n",
      "Requirement already satisfied: python-dateutil>=2.7 in c:\\python\\lib\\site-packages (from matplotlib) (2.8.2)\n",
      "Requirement already satisfied: numpy>=1.17 in c:\\python\\lib\\site-packages (from matplotlib) (1.23.1)\n",
      "Requirement already satisfied: six>=1.5 in c:\\python\\lib\\site-packages (from python-dateutil>=2.7->matplotlib) (1.16.0)\n"
     ]
    },
    {
     "name": "stderr",
     "output_type": "stream",
     "text": [
      "WARNING: There was an error checking the latest version of pip.\n"
     ]
    }
   ],
   "source": [
    "!pip install matplotlib"
   ]
  },
  {
   "cell_type": "code",
   "execution_count": 210,
   "metadata": {},
   "outputs": [
    {
     "name": "stdout",
     "output_type": "stream",
     "text": [
      "Requirement already satisfied: seaborn in c:\\python\\lib\\site-packages (0.12.2)\n",
      "Requirement already satisfied: matplotlib!=3.6.1,>=3.1 in c:\\python\\lib\\site-packages (from seaborn) (3.5.2)\n",
      "Requirement already satisfied: pandas>=0.25 in c:\\python\\lib\\site-packages (from seaborn) (1.5.1)\n",
      "Requirement already satisfied: numpy!=1.24.0,>=1.17 in c:\\python\\lib\\site-packages (from seaborn) (1.23.1)\n",
      "Requirement already satisfied: cycler>=0.10 in c:\\python\\lib\\site-packages (from matplotlib!=3.6.1,>=3.1->seaborn) (0.11.0)\n",
      "Requirement already satisfied: kiwisolver>=1.0.1 in c:\\python\\lib\\site-packages (from matplotlib!=3.6.1,>=3.1->seaborn) (1.4.4)\n",
      "Requirement already satisfied: pillow>=6.2.0 in c:\\python\\lib\\site-packages (from matplotlib!=3.6.1,>=3.1->seaborn) (9.2.0)\n",
      "Requirement already satisfied: packaging>=20.0 in c:\\python\\lib\\site-packages (from matplotlib!=3.6.1,>=3.1->seaborn) (20.9)\n",
      "Requirement already satisfied: python-dateutil>=2.7 in c:\\python\\lib\\site-packages (from matplotlib!=3.6.1,>=3.1->seaborn) (2.8.2)\n",
      "Requirement already satisfied: fonttools>=4.22.0 in c:\\python\\lib\\site-packages (from matplotlib!=3.6.1,>=3.1->seaborn) (4.34.4)\n",
      "Requirement already satisfied: pyparsing>=2.2.1 in c:\\python\\lib\\site-packages (from matplotlib!=3.6.1,>=3.1->seaborn) (3.0.9)\n",
      "Requirement already satisfied: pytz>=2020.1 in c:\\python\\lib\\site-packages (from pandas>=0.25->seaborn) (2022.6)\n",
      "Requirement already satisfied: six>=1.5 in c:\\python\\lib\\site-packages (from python-dateutil>=2.7->matplotlib!=3.6.1,>=3.1->seaborn) (1.16.0)\n"
     ]
    },
    {
     "name": "stderr",
     "output_type": "stream",
     "text": [
      "WARNING: There was an error checking the latest version of pip.\n"
     ]
    }
   ],
   "source": [
    "!pip install seaborn"
   ]
  },
  {
   "cell_type": "code",
   "execution_count": 211,
   "metadata": {},
   "outputs": [
    {
     "name": "stdout",
     "output_type": "stream",
     "text": [
      "Requirement already satisfied: scipy in c:\\python\\lib\\site-packages (1.10.1)\n",
      "Requirement already satisfied: numpy<1.27.0,>=1.19.5 in c:\\python\\lib\\site-packages (from scipy) (1.23.1)\n"
     ]
    },
    {
     "name": "stderr",
     "output_type": "stream",
     "text": [
      "WARNING: There was an error checking the latest version of pip.\n"
     ]
    }
   ],
   "source": [
    "!pip install scipy"
   ]
  },
  {
   "cell_type": "code",
   "execution_count": 212,
   "metadata": {},
   "outputs": [],
   "source": [
    "import pandas as pd\n",
    "import numpy as np\n",
    "import matplotlib.pyplot as plt\n",
    "import seaborn as sns\n",
    "from scipy import stats\n",
    "from IPython.core.interactiveshell import InteractiveShell\n",
    "InteractiveShell.ast_node_interactivity = \"all\""
   ]
  },
  {
   "cell_type": "code",
   "execution_count": 213,
   "metadata": {},
   "outputs": [
    {
     "data": {
      "text/html": [
       "<div>\n",
       "<style scoped>\n",
       "    .dataframe tbody tr th:only-of-type {\n",
       "        vertical-align: middle;\n",
       "    }\n",
       "\n",
       "    .dataframe tbody tr th {\n",
       "        vertical-align: top;\n",
       "    }\n",
       "\n",
       "    .dataframe thead th {\n",
       "        text-align: right;\n",
       "    }\n",
       "</style>\n",
       "<table border=\"1\" class=\"dataframe\">\n",
       "  <thead>\n",
       "    <tr style=\"text-align: right;\">\n",
       "      <th></th>\n",
       "      <th>Unnamed: 0</th>\n",
       "      <th>Metro</th>\n",
       "      <th>Mean Software Developer Salary (adjusted)</th>\n",
       "      <th>Mean Software Developer Salary (unadjusted)</th>\n",
       "      <th>Mean Unadjusted Salary (all occupations)</th>\n",
       "      <th>Number of Software Developer Jobs</th>\n",
       "      <th>Median Home Price</th>\n",
       "      <th>City</th>\n",
       "      <th>Cost of Living avg</th>\n",
       "      <th>Rent avg</th>\n",
       "      <th>Cost of Living Plus Rent avg</th>\n",
       "      <th>Local Purchasing Power avg</th>\n",
       "    </tr>\n",
       "  </thead>\n",
       "  <tbody>\n",
       "    <tr>\n",
       "      <th>0</th>\n",
       "      <td>0</td>\n",
       "      <td>Columbus, OH</td>\n",
       "      <td>117552.0</td>\n",
       "      <td>108500.0</td>\n",
       "      <td>51260.0</td>\n",
       "      <td>13430.0</td>\n",
       "      <td>192000.0</td>\n",
       "      <td>Columbus, OH</td>\n",
       "      <td>984.8</td>\n",
       "      <td>1421.5</td>\n",
       "      <td>2856.5</td>\n",
       "      <td>9335.4</td>\n",
       "    </tr>\n",
       "    <tr>\n",
       "      <th>1</th>\n",
       "      <td>1</td>\n",
       "      <td>Seattle-Tacoma-Bellevue, WA</td>\n",
       "      <td>117323.0</td>\n",
       "      <td>131167.0</td>\n",
       "      <td>65400.0</td>\n",
       "      <td>65760.0</td>\n",
       "      <td>491600.0</td>\n",
       "      <td>Seattle, WA</td>\n",
       "      <td>1250.7</td>\n",
       "      <td>2528.2</td>\n",
       "      <td>4091.5</td>\n",
       "      <td>8971.3</td>\n",
       "    </tr>\n",
       "    <tr>\n",
       "      <th>2</th>\n",
       "      <td>2</td>\n",
       "      <td>Charlotte-Concord-Gastonia, NC-SC</td>\n",
       "      <td>114122.0</td>\n",
       "      <td>107046.0</td>\n",
       "      <td>51000.0</td>\n",
       "      <td>12800.0</td>\n",
       "      <td>208500.0</td>\n",
       "      <td>Charlotte, NC</td>\n",
       "      <td>989.9</td>\n",
       "      <td>1974.5</td>\n",
       "      <td>3221.1</td>\n",
       "      <td>8939.8</td>\n",
       "    </tr>\n",
       "  </tbody>\n",
       "</table>\n",
       "</div>"
      ],
      "text/plain": [
       "   Unnamed: 0                              Metro  \\\n",
       "0           0                       Columbus, OH   \n",
       "1           1        Seattle-Tacoma-Bellevue, WA   \n",
       "2           2  Charlotte-Concord-Gastonia, NC-SC   \n",
       "\n",
       "   Mean Software Developer Salary (adjusted)  \\\n",
       "0                                   117552.0   \n",
       "1                                   117323.0   \n",
       "2                                   114122.0   \n",
       "\n",
       "   Mean Software Developer Salary (unadjusted)  \\\n",
       "0                                     108500.0   \n",
       "1                                     131167.0   \n",
       "2                                     107046.0   \n",
       "\n",
       "   Mean Unadjusted Salary (all occupations)  \\\n",
       "0                                   51260.0   \n",
       "1                                   65400.0   \n",
       "2                                   51000.0   \n",
       "\n",
       "   Number of Software Developer Jobs  Median Home Price           City  \\\n",
       "0                            13430.0           192000.0   Columbus, OH   \n",
       "1                            65760.0           491600.0    Seattle, WA   \n",
       "2                            12800.0           208500.0  Charlotte, NC   \n",
       "\n",
       "   Cost of Living avg  Rent avg  Cost of Living Plus Rent avg  \\\n",
       "0               984.8    1421.5                        2856.5   \n",
       "1              1250.7    2528.2                        4091.5   \n",
       "2               989.9    1974.5                        3221.1   \n",
       "\n",
       "   Local Purchasing Power avg  \n",
       "0                      9335.4  \n",
       "1                      8971.3  \n",
       "2                      8939.8  "
      ]
     },
     "execution_count": 213,
     "metadata": {},
     "output_type": "execute_result"
    }
   ],
   "source": [
    "df = pd.read_csv('SofwareDeveloperIncomeExpensesperUSACity.csv')\n",
    "df.head(3)"
   ]
  },
  {
   "cell_type": "markdown",
   "metadata": {},
   "source": [
    "### Retirando colunas:\n",
    "* \"Unnamed: 0\", \n",
    "* \"Metro\", \n",
    "* \"Mean Unadjusted Salary (all occupations)\", \n",
    "* \"Mean Software Developer Salary (adjusted)\", \n",
    "* \"Cost of Living Plus Rent avg\""
   ]
  },
  {
   "cell_type": "code",
   "execution_count": 214,
   "metadata": {},
   "outputs": [
    {
     "data": {
      "text/html": [
       "<div>\n",
       "<style scoped>\n",
       "    .dataframe tbody tr th:only-of-type {\n",
       "        vertical-align: middle;\n",
       "    }\n",
       "\n",
       "    .dataframe tbody tr th {\n",
       "        vertical-align: top;\n",
       "    }\n",
       "\n",
       "    .dataframe thead th {\n",
       "        text-align: right;\n",
       "    }\n",
       "</style>\n",
       "<table border=\"1\" class=\"dataframe\">\n",
       "  <thead>\n",
       "    <tr style=\"text-align: right;\">\n",
       "      <th></th>\n",
       "      <th>Mean Software Developer Salary (unadjusted)</th>\n",
       "      <th>Number of Software Developer Jobs</th>\n",
       "      <th>Median Home Price</th>\n",
       "      <th>Cost of Living avg</th>\n",
       "      <th>Rent avg</th>\n",
       "      <th>Local Purchasing Power avg</th>\n",
       "    </tr>\n",
       "  </thead>\n",
       "  <tbody>\n",
       "    <tr>\n",
       "      <th>0</th>\n",
       "      <td>108500.0</td>\n",
       "      <td>13430.0</td>\n",
       "      <td>192000.0</td>\n",
       "      <td>984.8</td>\n",
       "      <td>1421.5</td>\n",
       "      <td>9335.4</td>\n",
       "    </tr>\n",
       "    <tr>\n",
       "      <th>1</th>\n",
       "      <td>131167.0</td>\n",
       "      <td>65760.0</td>\n",
       "      <td>491600.0</td>\n",
       "      <td>1250.7</td>\n",
       "      <td>2528.2</td>\n",
       "      <td>8971.3</td>\n",
       "    </tr>\n",
       "    <tr>\n",
       "      <th>2</th>\n",
       "      <td>107046.0</td>\n",
       "      <td>12800.0</td>\n",
       "      <td>208500.0</td>\n",
       "      <td>989.9</td>\n",
       "      <td>1974.5</td>\n",
       "      <td>8939.8</td>\n",
       "    </tr>\n",
       "  </tbody>\n",
       "</table>\n",
       "</div>"
      ],
      "text/plain": [
       "   Mean Software Developer Salary (unadjusted)  \\\n",
       "0                                     108500.0   \n",
       "1                                     131167.0   \n",
       "2                                     107046.0   \n",
       "\n",
       "   Number of Software Developer Jobs  Median Home Price  Cost of Living avg  \\\n",
       "0                            13430.0           192000.0               984.8   \n",
       "1                            65760.0           491600.0              1250.7   \n",
       "2                            12800.0           208500.0               989.9   \n",
       "\n",
       "   Rent avg  Local Purchasing Power avg  \n",
       "0    1421.5                      9335.4  \n",
       "1    2528.2                      8971.3  \n",
       "2    1974.5                      8939.8  "
      ]
     },
     "execution_count": 214,
     "metadata": {},
     "output_type": "execute_result"
    }
   ],
   "source": [
    "colunas_para_retirar = ['Unnamed: 0', \n",
    "                        'Metro', \n",
    "                        'Mean Unadjusted Salary (all occupations)', \n",
    "                        'Mean Software Developer Salary (adjusted)', \n",
    "                        'Cost of Living Plus Rent avg',\n",
    "                        'City']\n",
    "df_final = df.drop(colunas_para_retirar, axis=1)\n",
    "df_final.head(3)\n"
   ]
  },
  {
   "cell_type": "markdown",
   "metadata": {},
   "source": [
    "## Renomeando e traduzindo Colunas\n",
    "### ** Como todas as colunas númericas sao médias vamos ocultar essa informação.\n",
    "\n",
    "### Os novos nomes das colunas serão:\n",
    "![image](DeparaTraducao.png)"
   ]
  },
  {
   "cell_type": "code",
   "execution_count": 215,
   "metadata": {},
   "outputs": [
    {
     "data": {
      "text/html": [
       "<div>\n",
       "<style scoped>\n",
       "    .dataframe tbody tr th:only-of-type {\n",
       "        vertical-align: middle;\n",
       "    }\n",
       "\n",
       "    .dataframe tbody tr th {\n",
       "        vertical-align: top;\n",
       "    }\n",
       "\n",
       "    .dataframe thead th {\n",
       "        text-align: right;\n",
       "    }\n",
       "</style>\n",
       "<table border=\"1\" class=\"dataframe\">\n",
       "  <thead>\n",
       "    <tr style=\"text-align: right;\">\n",
       "      <th></th>\n",
       "      <th>vl_salario</th>\n",
       "      <th>nr_empregos</th>\n",
       "      <th>vl_moradia</th>\n",
       "      <th>vl_custo_vida</th>\n",
       "      <th>vl_aluguel</th>\n",
       "      <th>vl_poder_compra</th>\n",
       "    </tr>\n",
       "  </thead>\n",
       "  <tbody>\n",
       "    <tr>\n",
       "      <th>0</th>\n",
       "      <td>108500.0</td>\n",
       "      <td>13430.0</td>\n",
       "      <td>192000.0</td>\n",
       "      <td>984.8</td>\n",
       "      <td>1421.5</td>\n",
       "      <td>9335.4</td>\n",
       "    </tr>\n",
       "    <tr>\n",
       "      <th>1</th>\n",
       "      <td>131167.0</td>\n",
       "      <td>65760.0</td>\n",
       "      <td>491600.0</td>\n",
       "      <td>1250.7</td>\n",
       "      <td>2528.2</td>\n",
       "      <td>8971.3</td>\n",
       "    </tr>\n",
       "    <tr>\n",
       "      <th>2</th>\n",
       "      <td>107046.0</td>\n",
       "      <td>12800.0</td>\n",
       "      <td>208500.0</td>\n",
       "      <td>989.9</td>\n",
       "      <td>1974.5</td>\n",
       "      <td>8939.8</td>\n",
       "    </tr>\n",
       "  </tbody>\n",
       "</table>\n",
       "</div>"
      ],
      "text/plain": [
       "   vl_salario  nr_empregos  vl_moradia  vl_custo_vida  vl_aluguel  \\\n",
       "0    108500.0      13430.0    192000.0          984.8      1421.5   \n",
       "1    131167.0      65760.0    491600.0         1250.7      2528.2   \n",
       "2    107046.0      12800.0    208500.0          989.9      1974.5   \n",
       "\n",
       "   vl_poder_compra  \n",
       "0           9335.4  \n",
       "1           8971.3  \n",
       "2           8939.8  "
      ]
     },
     "execution_count": 215,
     "metadata": {},
     "output_type": "execute_result"
    }
   ],
   "source": [
    "de_para_novos_nomes = {\n",
    "    'Mean Software Developer Salary (unadjusted)'   : 'vl_salario',\n",
    "    'Number of Software Developer Jobs'             : 'nr_empregos',\n",
    "    'Median Home Price'                             : 'vl_moradia',\n",
    "    # 'City'                                          : 'nm_cidade',\n",
    "    'Cost of Living avg'                            : 'vl_custo_vida',\n",
    "    'Rent avg'                                      : 'vl_aluguel',\n",
    "    'Local Purchasing Power avg'                    : 'vl_poder_compra'\n",
    "}\n",
    "df_final.rename(columns=de_para_novos_nomes, inplace=True)\n",
    "df_final.head(3)"
   ]
  },
  {
   "cell_type": "markdown",
   "metadata": {},
   "source": [
    "# Avaliação dos dados"
   ]
  },
  {
   "cell_type": "code",
   "execution_count": 216,
   "metadata": {},
   "outputs": [
    {
     "name": "stdout",
     "output_type": "stream",
     "text": [
      "O conjunto de dados tem 77 linhas/observações e 6 colunas/variáveis.\n"
     ]
    }
   ],
   "source": [
    "print('O conjunto de dados tem ' + str(df_final.shape[0]) + ' linhas/observações e ' + str(df_final.shape[1]) + ' colunas/variáveis.') "
   ]
  },
  {
   "cell_type": "code",
   "execution_count": 217,
   "metadata": {},
   "outputs": [
    {
     "name": "stdout",
     "output_type": "stream",
     "text": [
      "Verificando valores nulos\n"
     ]
    },
    {
     "data": {
      "text/plain": [
       "vl_salario         0\n",
       "nr_empregos        0\n",
       "vl_moradia         0\n",
       "vl_custo_vida      0\n",
       "vl_aluguel         0\n",
       "vl_poder_compra    0\n",
       "dtype: int64"
      ]
     },
     "execution_count": 217,
     "metadata": {},
     "output_type": "execute_result"
    }
   ],
   "source": [
    "print('Verificando valores nulos')\n",
    "df_final.isna().sum()"
   ]
  },
  {
   "cell_type": "code",
   "execution_count": 218,
   "metadata": {},
   "outputs": [
    {
     "name": "stdout",
     "output_type": "stream",
     "text": [
      "Tipos de dados das colunas\n"
     ]
    },
    {
     "data": {
      "text/plain": [
       "vl_salario         float64\n",
       "nr_empregos        float64\n",
       "vl_moradia         float64\n",
       "vl_custo_vida      float64\n",
       "vl_aluguel         float64\n",
       "vl_poder_compra    float64\n",
       "dtype: object"
      ]
     },
     "execution_count": 218,
     "metadata": {},
     "output_type": "execute_result"
    }
   ],
   "source": [
    "print('Tipos de dados das colunas')\n",
    "df_final.dtypes"
   ]
  },
  {
   "cell_type": "code",
   "execution_count": 219,
   "metadata": {},
   "outputs": [
    {
     "data": {
      "text/html": [
       "<div>\n",
       "<style scoped>\n",
       "    .dataframe tbody tr th:only-of-type {\n",
       "        vertical-align: middle;\n",
       "    }\n",
       "\n",
       "    .dataframe tbody tr th {\n",
       "        vertical-align: top;\n",
       "    }\n",
       "\n",
       "    .dataframe thead th {\n",
       "        text-align: right;\n",
       "    }\n",
       "</style>\n",
       "<table border=\"1\" class=\"dataframe\">\n",
       "  <thead>\n",
       "    <tr style=\"text-align: right;\">\n",
       "      <th></th>\n",
       "      <th>vl_salario</th>\n",
       "      <th>nr_empregos</th>\n",
       "      <th>vl_moradia</th>\n",
       "      <th>vl_custo_vida</th>\n",
       "      <th>vl_aluguel</th>\n",
       "      <th>vl_poder_compra</th>\n",
       "    </tr>\n",
       "  </thead>\n",
       "  <tbody>\n",
       "    <tr>\n",
       "      <th>vl_salario</th>\n",
       "      <td>1.000000</td>\n",
       "      <td>0.784464</td>\n",
       "      <td>0.785842</td>\n",
       "      <td>0.152999</td>\n",
       "      <td>-0.019006</td>\n",
       "      <td>0.349720</td>\n",
       "    </tr>\n",
       "    <tr>\n",
       "      <th>nr_empregos</th>\n",
       "      <td>0.784464</td>\n",
       "      <td>1.000000</td>\n",
       "      <td>0.652009</td>\n",
       "      <td>0.170448</td>\n",
       "      <td>-0.021038</td>\n",
       "      <td>0.339211</td>\n",
       "    </tr>\n",
       "    <tr>\n",
       "      <th>vl_moradia</th>\n",
       "      <td>0.785842</td>\n",
       "      <td>0.652009</td>\n",
       "      <td>1.000000</td>\n",
       "      <td>0.126911</td>\n",
       "      <td>-0.019267</td>\n",
       "      <td>0.199677</td>\n",
       "    </tr>\n",
       "    <tr>\n",
       "      <th>vl_custo_vida</th>\n",
       "      <td>0.152999</td>\n",
       "      <td>0.170448</td>\n",
       "      <td>0.126911</td>\n",
       "      <td>1.000000</td>\n",
       "      <td>-0.017873</td>\n",
       "      <td>-0.002585</td>\n",
       "    </tr>\n",
       "    <tr>\n",
       "      <th>vl_aluguel</th>\n",
       "      <td>-0.019006</td>\n",
       "      <td>-0.021038</td>\n",
       "      <td>-0.019267</td>\n",
       "      <td>-0.017873</td>\n",
       "      <td>1.000000</td>\n",
       "      <td>-0.009309</td>\n",
       "    </tr>\n",
       "    <tr>\n",
       "      <th>vl_poder_compra</th>\n",
       "      <td>0.349720</td>\n",
       "      <td>0.339211</td>\n",
       "      <td>0.199677</td>\n",
       "      <td>-0.002585</td>\n",
       "      <td>-0.009309</td>\n",
       "      <td>1.000000</td>\n",
       "    </tr>\n",
       "  </tbody>\n",
       "</table>\n",
       "</div>"
      ],
      "text/plain": [
       "                 vl_salario  nr_empregos  vl_moradia  vl_custo_vida  \\\n",
       "vl_salario         1.000000     0.784464    0.785842       0.152999   \n",
       "nr_empregos        0.784464     1.000000    0.652009       0.170448   \n",
       "vl_moradia         0.785842     0.652009    1.000000       0.126911   \n",
       "vl_custo_vida      0.152999     0.170448    0.126911       1.000000   \n",
       "vl_aluguel        -0.019006    -0.021038   -0.019267      -0.017873   \n",
       "vl_poder_compra    0.349720     0.339211    0.199677      -0.002585   \n",
       "\n",
       "                 vl_aluguel  vl_poder_compra  \n",
       "vl_salario        -0.019006         0.349720  \n",
       "nr_empregos       -0.021038         0.339211  \n",
       "vl_moradia        -0.019267         0.199677  \n",
       "vl_custo_vida     -0.017873        -0.002585  \n",
       "vl_aluguel         1.000000        -0.009309  \n",
       "vl_poder_compra   -0.009309         1.000000  "
      ]
     },
     "execution_count": 219,
     "metadata": {},
     "output_type": "execute_result"
    },
    {
     "name": "stdout",
     "output_type": "stream",
     "text": [
      "Notas observações:  \n",
      "\t* As variáveis com maior correlação com o salário são \"nr_empregos\" e \"vl_moradia\".\n",
      "\t* As variáveis \"vl_custo_vida\", \"vl_poder_compra\" demonstraram menor correlação em relação ao salário.\n",
      "\t* A variável \"vl_aluguel\" teve baixíssima correlação e apresentando-se negativa.\n",
      "\n"
     ]
    }
   ],
   "source": [
    " # Retirando nome da cidade, por não ser possível correlacionar variáveis descritivas.\n",
    "df_final.corr()\n",
    "print('Notas observações:  \\n\\t* As variáveis com maior correlação com o salário são \"nr_empregos\" e \"vl_moradia\".\\n' + \n",
    "                            '\\t* As variáveis \"vl_custo_vida\", \"vl_poder_compra\" demonstraram menor correlação em relação ao salário.\\n'\n",
    "                            '\\t* A variável \"vl_aluguel\" teve baixíssima correlação e apresentando-se negativa.\\n')"
   ]
  },
  {
   "cell_type": "code",
   "execution_count": 220,
   "metadata": {},
   "outputs": [
    {
     "name": "stdout",
     "output_type": "stream",
     "text": [
      "Tabela descritiva das variáveis:\n"
     ]
    },
    {
     "data": {
      "text/html": [
       "<div>\n",
       "<style scoped>\n",
       "    .dataframe tbody tr th:only-of-type {\n",
       "        vertical-align: middle;\n",
       "    }\n",
       "\n",
       "    .dataframe tbody tr th {\n",
       "        vertical-align: top;\n",
       "    }\n",
       "\n",
       "    .dataframe thead th {\n",
       "        text-align: right;\n",
       "    }\n",
       "</style>\n",
       "<table border=\"1\" class=\"dataframe\">\n",
       "  <thead>\n",
       "    <tr style=\"text-align: right;\">\n",
       "      <th></th>\n",
       "      <th>vl_salario</th>\n",
       "      <th>nr_empregos</th>\n",
       "      <th>vl_moradia</th>\n",
       "      <th>vl_custo_vida</th>\n",
       "      <th>vl_aluguel</th>\n",
       "      <th>vl_poder_compra</th>\n",
       "    </tr>\n",
       "  </thead>\n",
       "  <tbody>\n",
       "    <tr>\n",
       "      <th>count</th>\n",
       "      <td>77.00</td>\n",
       "      <td>77.00</td>\n",
       "      <td>77.00</td>\n",
       "      <td>77.00</td>\n",
       "      <td>77.00</td>\n",
       "      <td>77.00</td>\n",
       "    </tr>\n",
       "    <tr>\n",
       "      <th>mean</th>\n",
       "      <td>101866.21</td>\n",
       "      <td>19098.57</td>\n",
       "      <td>312701.30</td>\n",
       "      <td>1414.06</td>\n",
       "      <td>3280.43</td>\n",
       "      <td>7421.23</td>\n",
       "    </tr>\n",
       "    <tr>\n",
       "      <th>std</th>\n",
       "      <td>13926.64</td>\n",
       "      <td>23858.15</td>\n",
       "      <td>222743.31</td>\n",
       "      <td>2369.54</td>\n",
       "      <td>9118.81</td>\n",
       "      <td>1327.44</td>\n",
       "    </tr>\n",
       "    <tr>\n",
       "      <th>min</th>\n",
       "      <td>80314.00</td>\n",
       "      <td>1120.00</td>\n",
       "      <td>124100.00</td>\n",
       "      <td>832.50</td>\n",
       "      <td>879.30</td>\n",
       "      <td>4840.10</td>\n",
       "    </tr>\n",
       "    <tr>\n",
       "      <th>25%</th>\n",
       "      <td>91976.00</td>\n",
       "      <td>3170.00</td>\n",
       "      <td>178400.00</td>\n",
       "      <td>957.30</td>\n",
       "      <td>1340.50</td>\n",
       "      <td>6464.20</td>\n",
       "    </tr>\n",
       "    <tr>\n",
       "      <th>50%</th>\n",
       "      <td>100614.00</td>\n",
       "      <td>8770.00</td>\n",
       "      <td>243700.00</td>\n",
       "      <td>995.00</td>\n",
       "      <td>1625.80</td>\n",
       "      <td>7499.00</td>\n",
       "    </tr>\n",
       "    <tr>\n",
       "      <th>75%</th>\n",
       "      <td>109503.00</td>\n",
       "      <td>21160.00</td>\n",
       "      <td>366000.00</td>\n",
       "      <td>1086.00</td>\n",
       "      <td>2171.90</td>\n",
       "      <td>8153.10</td>\n",
       "    </tr>\n",
       "    <tr>\n",
       "      <th>max</th>\n",
       "      <td>142101.00</td>\n",
       "      <td>98650.00</td>\n",
       "      <td>1193600.00</td>\n",
       "      <td>15809.20</td>\n",
       "      <td>58597.60</td>\n",
       "      <td>10673.70</td>\n",
       "    </tr>\n",
       "  </tbody>\n",
       "</table>\n",
       "</div>"
      ],
      "text/plain": [
       "       vl_salario  nr_empregos  vl_moradia  vl_custo_vida  vl_aluguel  \\\n",
       "count       77.00        77.00       77.00          77.00       77.00   \n",
       "mean    101866.21     19098.57   312701.30        1414.06     3280.43   \n",
       "std      13926.64     23858.15   222743.31        2369.54     9118.81   \n",
       "min      80314.00      1120.00   124100.00         832.50      879.30   \n",
       "25%      91976.00      3170.00   178400.00         957.30     1340.50   \n",
       "50%     100614.00      8770.00   243700.00         995.00     1625.80   \n",
       "75%     109503.00     21160.00   366000.00        1086.00     2171.90   \n",
       "max     142101.00     98650.00  1193600.00       15809.20    58597.60   \n",
       "\n",
       "       vl_poder_compra  \n",
       "count            77.00  \n",
       "mean           7421.23  \n",
       "std            1327.44  \n",
       "min            4840.10  \n",
       "25%            6464.20  \n",
       "50%            7499.00  \n",
       "75%            8153.10  \n",
       "max           10673.70  "
      ]
     },
     "execution_count": 220,
     "metadata": {},
     "output_type": "execute_result"
    }
   ],
   "source": [
    "print('Tabela descritiva das variáveis:')\n",
    "df_final.describe().round(2)"
   ]
  },
  {
   "cell_type": "code",
   "execution_count": 221,
   "metadata": {},
   "outputs": [
    {
     "name": "stdout",
     "output_type": "stream",
     "text": [
      "Aqui podemos visualizar melhor os OUTLIERS.\n"
     ]
    },
    {
     "data": {
      "image/png": "[encoded data removed]",
      "text/plain": [
       "<Figure size 1080x648 with 6 Axes>"
      ]
     },
     "metadata": {
      "needs_background": "light"
     },
     "output_type": "display_data"
    }
   ],
   "source": [
    "#Histograma das variáveis\n",
    "df_final[['nr_empregos', 'vl_moradia', 'vl_salario', 'vl_custo_vida', 'vl_aluguel', 'vl_poder_compra']].hist(figsize=(15,9), bins=50);\n",
    "print('Aqui podemos visualizar melhor os OUTLIERS.');"
   ]
  },
  {
   "cell_type": "code",
   "execution_count": 222,
   "metadata": {},
   "outputs": [
    {
     "data": {
      "image/png": "[encoded data removed]",
      "text/plain": [
       "<Figure size 1080x648 with 6 Axes>"
      ]
     },
     "metadata": {
      "needs_background": "light"
     },
     "output_type": "display_data"
    }
   ],
   "source": [
    "df_final[['nr_empregos', 'vl_moradia', 'vl_salario', 'vl_custo_vida', 'vl_aluguel', 'vl_poder_compra']].hist(figsize=(15,9), bins=50);"
   ]
  },
  {
   "cell_type": "code",
   "execution_count": 223,
   "metadata": {},
   "outputs": [
    {
     "data": {
      "image/png": "[encoded data removed]",
      "text/plain": [
       "<Figure size 1440x576 with 2 Axes>"
      ]
     },
     "metadata": {
      "needs_background": "light"
     },
     "output_type": "display_data"
    }
   ],
   "source": [
    "plt.figure(figsize=(20,8))\n",
    "sns.heatmap(df_final.corr(), annot = True, cmap= \"RdYlGn\");\n",
    "plt.title('Correlação',size=15);"
   ]
  },
  {
   "cell_type": "code",
   "execution_count": 224,
   "metadata": {},
   "outputs": [
    {
     "data": {
      "image/png": "[encoded data removed]",
      "text/plain": [
       "<Figure size 1440x720 with 6 Axes>"
      ]
     },
     "metadata": {
      "needs_background": "light"
     },
     "output_type": "display_data"
    }
   ],
   "source": [
    "#Dispersão entre as variáveis\n",
    "fig,ax = plt.subplots(2,3, figsize=(20,10));\n",
    "sns.scatterplot(x='vl_salario',y='nr_empregos',data = df_final,ax=ax[0][0]);\n",
    "sns.scatterplot(x='vl_salario',y='vl_moradia',data = df_final,ax=ax[0][1]);\n",
    "sns.scatterplot(x='vl_salario',y='vl_custo_vida',data = df_final,ax=ax[0][2]);\n",
    "sns.scatterplot(x='vl_salario',y='vl_aluguel',data = df_final,ax=ax[1][0]);\n",
    "sns.scatterplot(x='vl_salario',y='vl_poder_compra',data = df_final,ax=ax[1][1]);"
   ]
  },
  {
   "cell_type": "markdown",
   "metadata": {},
   "source": [
    "# Escolhemos trabalhar com somente as variáveis \"nr_empregos\" e \"vl_moradia\" para estimar o salário"
   ]
  },
  {
   "cell_type": "markdown",
   "metadata": {},
   "source": [
    "## Removendo outras colunas"
   ]
  },
  {
   "cell_type": "code",
   "execution_count": 225,
   "metadata": {},
   "outputs": [
    {
     "data": {
      "text/html": [
       "<div>\n",
       "<style scoped>\n",
       "    .dataframe tbody tr th:only-of-type {\n",
       "        vertical-align: middle;\n",
       "    }\n",
       "\n",
       "    .dataframe tbody tr th {\n",
       "        vertical-align: top;\n",
       "    }\n",
       "\n",
       "    .dataframe thead th {\n",
       "        text-align: right;\n",
       "    }\n",
       "</style>\n",
       "<table border=\"1\" class=\"dataframe\">\n",
       "  <thead>\n",
       "    <tr style=\"text-align: right;\">\n",
       "      <th></th>\n",
       "      <th>vl_salario</th>\n",
       "      <th>nr_empregos</th>\n",
       "      <th>vl_moradia</th>\n",
       "    </tr>\n",
       "  </thead>\n",
       "  <tbody>\n",
       "    <tr>\n",
       "      <th>0</th>\n",
       "      <td>108500.0</td>\n",
       "      <td>13430.0</td>\n",
       "      <td>192000.0</td>\n",
       "    </tr>\n",
       "    <tr>\n",
       "      <th>1</th>\n",
       "      <td>131167.0</td>\n",
       "      <td>65760.0</td>\n",
       "      <td>491600.0</td>\n",
       "    </tr>\n",
       "    <tr>\n",
       "      <th>2</th>\n",
       "      <td>107046.0</td>\n",
       "      <td>12800.0</td>\n",
       "      <td>208500.0</td>\n",
       "    </tr>\n",
       "  </tbody>\n",
       "</table>\n",
       "</div>"
      ],
      "text/plain": [
       "   vl_salario  nr_empregos  vl_moradia\n",
       "0    108500.0      13430.0    192000.0\n",
       "1    131167.0      65760.0    491600.0\n",
       "2    107046.0      12800.0    208500.0"
      ]
     },
     "execution_count": 225,
     "metadata": {},
     "output_type": "execute_result"
    }
   ],
   "source": [
    "df_final = df_final.drop(['vl_custo_vida', 'vl_aluguel', 'vl_poder_compra'], axis=1)\n",
    "df_final.head(3)"
   ]
  },
  {
   "cell_type": "markdown",
   "metadata": {},
   "source": [
    "# ** Separar variáveis independentes e variáveis dependentes"
   ]
  },
  {
   "cell_type": "code",
   "execution_count": null,
   "metadata": {},
   "outputs": [],
   "source": []
  }
 ],
 "metadata": {
  "kernelspec": {
   "display_name": "Python 3.10.4 64-bit",
   "language": "python",
   "name": "python3"
  },
  "language_info": {
   "codemirror_mode": {
    "name": "ipython",
    "version": 3
   },
   "file_extension": ".py",
   "mimetype": "text/x-python",
   "name": "python",
   "nbconvert_exporter": "python",
   "pygments_lexer": "ipython3",
   "version": "3.10.4"
  },
  "orig_nbformat": 4,
  "vscode": {
   "interpreter": {
    "hash": "52634da84371cba311ea128a5ea7cdc41ff074b781779e754b270ff9f8153cee"
   }
  }
 },
 "nbformat": 4,
 "nbformat_minor": 2
}
