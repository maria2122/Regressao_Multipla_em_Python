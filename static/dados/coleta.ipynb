{
 "cells": [
  {
   "attachments": {},
   "cell_type": "markdown",
   "metadata": {},
   "source": [
    "### Coleta dados"
   ]
  },
  {
   "cell_type": "code",
   "execution_count": 1,
   "metadata": {},
   "outputs": [
    {
     "name": "stdout",
     "output_type": "stream",
     "text": [
      "Collecting pandas\n",
      "  Downloading pandas-2.0.0-cp310-cp310-win_amd64.whl (11.2 MB)\n",
      "     ---------------------------------------- 0.0/11.2 MB ? eta -:--:--\n",
      "     - -------------------------------------- 0.3/11.2 MB 9.9 MB/s eta 0:00:02\n",
      "     -- ------------------------------------- 0.7/11.2 MB 8.3 MB/s eta 0:00:02\n",
      "     --- ------------------------------------ 1.1/11.2 MB 8.7 MB/s eta 0:00:02\n",
      "     ----- ---------------------------------- 1.4/11.2 MB 8.3 MB/s eta 0:00:02\n",
      "     ------ --------------------------------- 1.8/11.2 MB 8.2 MB/s eta 0:00:02\n",
      "     ------- -------------------------------- 2.2/11.2 MB 8.1 MB/s eta 0:00:02\n",
      "     --------- ------------------------------ 2.6/11.2 MB 8.3 MB/s eta 0:00:02\n",
      "     ---------- ----------------------------- 2.9/11.2 MB 8.0 MB/s eta 0:00:02\n",
      "     ----------- ---------------------------- 3.3/11.2 MB 8.1 MB/s eta 0:00:01\n",
      "     ------------- -------------------------- 3.7/11.2 MB 8.0 MB/s eta 0:00:01\n",
      "     -------------- ------------------------- 4.0/11.2 MB 8.0 MB/s eta 0:00:01\n",
      "     --------------- ------------------------ 4.3/11.2 MB 7.9 MB/s eta 0:00:01\n",
      "     ---------------- ----------------------- 4.7/11.2 MB 7.9 MB/s eta 0:00:01\n",
      "     ------------------ --------------------- 5.1/11.2 MB 7.9 MB/s eta 0:00:01\n",
      "     ------------------- -------------------- 5.5/11.2 MB 7.8 MB/s eta 0:00:01\n",
      "     --------------------- ------------------ 5.9/11.2 MB 7.9 MB/s eta 0:00:01\n",
      "     ---------------------- ----------------- 6.3/11.2 MB 7.9 MB/s eta 0:00:01\n",
      "     ----------------------- ---------------- 6.7/11.2 MB 7.9 MB/s eta 0:00:01\n",
      "     ------------------------ --------------- 7.0/11.2 MB 7.8 MB/s eta 0:00:01\n",
      "     ------------------------- -------------- 7.3/11.2 MB 7.7 MB/s eta 0:00:01\n",
      "     --------------------------- ------------ 7.6/11.2 MB 7.6 MB/s eta 0:00:01\n",
      "     ---------------------------- ----------- 7.9/11.2 MB 7.3 MB/s eta 0:00:01\n",
      "     ---------------------------- ----------- 7.9/11.2 MB 7.1 MB/s eta 0:00:01\n",
      "     ----------------------------- ---------- 8.2/11.2 MB 7.0 MB/s eta 0:00:01\n",
      "     ----------------------------- ---------- 8.3/11.2 MB 6.9 MB/s eta 0:00:01\n",
      "     ------------------------------ --------- 8.4/11.2 MB 6.7 MB/s eta 0:00:01\n",
      "     ------------------------------ --------- 8.6/11.2 MB 6.5 MB/s eta 0:00:01\n",
      "     ------------------------------ --------- 8.7/11.2 MB 6.5 MB/s eta 0:00:01\n",
      "     ------------------------------- -------- 8.8/11.2 MB 6.2 MB/s eta 0:00:01\n",
      "     ------------------------------- -------- 8.9/11.2 MB 6.2 MB/s eta 0:00:01\n",
      "     -------------------------------- ------- 9.1/11.2 MB 6.1 MB/s eta 0:00:01\n",
      "     -------------------------------- ------- 9.2/11.2 MB 6.0 MB/s eta 0:00:01\n",
      "     --------------------------------- ------ 9.3/11.2 MB 5.9 MB/s eta 0:00:01\n",
      "     --------------------------------- ------ 9.5/11.2 MB 5.8 MB/s eta 0:00:01\n",
      "     ---------------------------------- ----- 9.6/11.2 MB 5.7 MB/s eta 0:00:01\n",
      "     ---------------------------------- ----- 9.7/11.2 MB 5.6 MB/s eta 0:00:01\n",
      "     ---------------------------------- ----- 9.8/11.2 MB 5.6 MB/s eta 0:00:01\n",
      "     ----------------------------------- ---- 10.0/11.2 MB 5.5 MB/s eta 0:00:01\n",
      "     ------------------------------------ --- 10.1/11.2 MB 5.4 MB/s eta 0:00:01\n",
      "     ------------------------------------ --- 10.2/11.2 MB 5.4 MB/s eta 0:00:01\n",
      "     ------------------------------------- -- 10.4/11.2 MB 5.3 MB/s eta 0:00:01\n",
      "     ------------------------------------- -- 10.6/11.2 MB 5.2 MB/s eta 0:00:01\n",
      "     -------------------------------------- - 10.7/11.2 MB 5.2 MB/s eta 0:00:01\n",
      "     -------------------------------------- - 10.8/11.2 MB 5.1 MB/s eta 0:00:01\n",
      "     -------------------------------------- - 10.9/11.2 MB 5.0 MB/s eta 0:00:01\n",
      "     ---------------------------------------  11.0/11.2 MB 4.9 MB/s eta 0:00:01\n",
      "     ---------------------------------------  11.2/11.2 MB 4.8 MB/s eta 0:00:01\n",
      "     ---------------------------------------  11.2/11.2 MB 4.8 MB/s eta 0:00:01\n",
      "     ---------------------------------------- 11.2/11.2 MB 4.7 MB/s eta 0:00:00\n",
      "Requirement already satisfied: python-dateutil>=2.8.2 in c:\\users\\mjaqu\\appdata\\roaming\\python\\python310\\site-packages (from pandas) (2.8.2)\n",
      "Requirement already satisfied: numpy>=1.21.0 in c:\\users\\mjaqu\\appdata\\local\\programs\\python\\python310\\lib\\site-packages (from pandas) (1.24.2)\n",
      "Collecting tzdata>=2022.1\n",
      "  Downloading tzdata-2023.3-py2.py3-none-any.whl (341 kB)\n",
      "     ---------------------------------------- 0.0/341.8 kB ? eta -:--:--\n",
      "     --------------- ---------------------- 143.4/341.8 kB 2.8 MB/s eta 0:00:01\n",
      "     ------------------------------ ------- 276.5/341.8 kB 2.8 MB/s eta 0:00:01\n",
      "     -------------------------------------- 341.8/341.8 kB 3.0 MB/s eta 0:00:00\n",
      "Collecting pytz>=2020.1\n",
      "  Downloading pytz-2023.3-py2.py3-none-any.whl (502 kB)\n",
      "     ---------------------------------------- 0.0/502.3 kB ? eta -:--:--\n",
      "     ------------- ------------------------ 174.1/502.3 kB 3.5 MB/s eta 0:00:01\n",
      "     ----------------------------- -------- 389.1/502.3 kB 4.0 MB/s eta 0:00:01\n",
      "     -------------------------------------- 502.3/502.3 kB 3.9 MB/s eta 0:00:00\n",
      "Requirement already satisfied: six>=1.5 in c:\\users\\mjaqu\\appdata\\roaming\\python\\python310\\site-packages (from python-dateutil>=2.8.2->pandas) (1.16.0)\n",
      "Installing collected packages: pytz, tzdata, pandas\n",
      "Successfully installed pandas-2.0.0 pytz-2023.3 tzdata-2023.3\n"
     ]
    }
   ],
   "source": [
    "!pip install pandas"
   ]
  },
  {
   "cell_type": "code",
   "execution_count": 2,
   "metadata": {},
   "outputs": [
    {
     "name": "stdout",
     "output_type": "stream",
     "text": [
      "Collecting matplotlib\n",
      "  Downloading matplotlib-3.7.1-cp310-cp310-win_amd64.whl (7.6 MB)\n",
      "     ---------------------------------------- 0.0/7.6 MB ? eta -:--:--\n",
      "     - -------------------------------------- 0.2/7.6 MB 6.3 MB/s eta 0:00:02\n",
      "     -- ------------------------------------- 0.5/7.6 MB 6.8 MB/s eta 0:00:02\n",
      "     ---- ----------------------------------- 0.8/7.6 MB 6.6 MB/s eta 0:00:02\n",
      "     ----- ---------------------------------- 1.1/7.6 MB 6.5 MB/s eta 0:00:02\n",
      "     ------- -------------------------------- 1.5/7.6 MB 6.8 MB/s eta 0:00:01\n",
      "     --------- ------------------------------ 1.8/7.6 MB 6.7 MB/s eta 0:00:01\n",
      "     ---------- ----------------------------- 2.1/7.6 MB 6.6 MB/s eta 0:00:01\n",
      "     ------------ --------------------------- 2.4/7.6 MB 6.7 MB/s eta 0:00:01\n",
      "     -------------- ------------------------- 2.8/7.6 MB 6.8 MB/s eta 0:00:01\n",
      "     ---------------- ----------------------- 3.1/7.6 MB 6.8 MB/s eta 0:00:01\n",
      "     ------------------ --------------------- 3.5/7.6 MB 7.1 MB/s eta 0:00:01\n",
      "     -------------------- ------------------- 3.9/7.6 MB 7.1 MB/s eta 0:00:01\n",
      "     --------------------- ------------------ 4.2/7.6 MB 7.2 MB/s eta 0:00:01\n",
      "     ------------------------ --------------- 4.7/7.6 MB 7.4 MB/s eta 0:00:01\n",
      "     -------------------------- ------------- 5.1/7.6 MB 7.5 MB/s eta 0:00:01\n",
      "     ----------------------------- ---------- 5.6/7.6 MB 7.6 MB/s eta 0:00:01\n",
      "     ------------------------------- -------- 6.0/7.6 MB 7.7 MB/s eta 0:00:01\n",
      "     ---------------------------------- ----- 6.5/7.6 MB 7.8 MB/s eta 0:00:01\n",
      "     ----------------------------------- ---- 6.7/7.6 MB 7.9 MB/s eta 0:00:01\n",
      "     ------------------------------------ --- 6.9/7.6 MB 7.5 MB/s eta 0:00:01\n",
      "     -------------------------------------- - 7.4/7.6 MB 7.6 MB/s eta 0:00:01\n",
      "     ---------------------------------------  7.6/7.6 MB 7.7 MB/s eta 0:00:01\n",
      "     ---------------------------------------- 7.6/7.6 MB 7.4 MB/s eta 0:00:00\n",
      "Requirement already satisfied: python-dateutil>=2.7 in c:\\users\\mjaqu\\appdata\\roaming\\python\\python310\\site-packages (from matplotlib) (2.8.2)\n",
      "Collecting kiwisolver>=1.0.1\n",
      "  Downloading kiwisolver-1.4.4-cp310-cp310-win_amd64.whl (55 kB)\n",
      "     ---------------------------------------- 0.0/55.3 kB ? eta -:--:--\n",
      "     ---------------------------------------- 55.3/55.3 kB 2.8 MB/s eta 0:00:00\n",
      "Requirement already satisfied: numpy>=1.20 in c:\\users\\mjaqu\\appdata\\local\\programs\\python\\python310\\lib\\site-packages (from matplotlib) (1.24.2)\n",
      "Collecting fonttools>=4.22.0\n",
      "  Downloading fonttools-4.39.3-py3-none-any.whl (1.0 MB)\n",
      "     ---------------------------------------- 0.0/1.0 MB ? eta -:--:--\n",
      "     --------------- ------------------------ 0.4/1.0 MB 7.8 MB/s eta 0:00:01\n",
      "     ------------------------------- -------- 0.8/1.0 MB 8.4 MB/s eta 0:00:01\n",
      "     ---------------------------------------- 1.0/1.0 MB 9.2 MB/s eta 0:00:00\n",
      "Requirement already satisfied: packaging>=20.0 in c:\\users\\mjaqu\\appdata\\roaming\\python\\python310\\site-packages (from matplotlib) (23.0)\n",
      "Collecting pyparsing>=2.3.1\n",
      "  Downloading pyparsing-3.0.9-py3-none-any.whl (98 kB)\n",
      "     ---------------------------------------- 0.0/98.3 kB ? eta -:--:--\n",
      "     ---------------------------------------- 98.3/98.3 kB ? eta 0:00:00\n",
      "Collecting cycler>=0.10\n",
      "  Downloading cycler-0.11.0-py3-none-any.whl (6.4 kB)\n",
      "Collecting pillow>=6.2.0\n",
      "  Downloading Pillow-9.5.0-cp310-cp310-win_amd64.whl (2.5 MB)\n",
      "     ---------------------------------------- 0.0/2.5 MB ? eta -:--:--\n",
      "     ----- ---------------------------------- 0.4/2.5 MB 11.2 MB/s eta 0:00:01\n",
      "     --------- ------------------------------ 0.6/2.5 MB 7.5 MB/s eta 0:00:01\n",
      "     ------------ --------------------------- 0.8/2.5 MB 7.3 MB/s eta 0:00:01\n",
      "     ------------------ --------------------- 1.1/2.5 MB 6.6 MB/s eta 0:00:01\n",
      "     --------------------- ------------------ 1.4/2.5 MB 6.6 MB/s eta 0:00:01\n",
      "     ------------------------- -------------- 1.6/2.5 MB 6.0 MB/s eta 0:00:01\n",
      "     --------------------------- ------------ 1.7/2.5 MB 5.5 MB/s eta 0:00:01\n",
      "     ----------------------------- ---------- 1.8/2.5 MB 5.3 MB/s eta 0:00:01\n",
      "     ------------------------------- -------- 2.0/2.5 MB 5.0 MB/s eta 0:00:01\n",
      "     ---------------------------------- ----- 2.1/2.5 MB 4.7 MB/s eta 0:00:01\n",
      "     ----------------------------------- ---- 2.2/2.5 MB 4.5 MB/s eta 0:00:01\n",
      "     -------------------------------------- - 2.4/2.5 MB 4.4 MB/s eta 0:00:01\n",
      "     ---------------------------------------  2.5/2.5 MB 4.2 MB/s eta 0:00:01\n",
      "     ---------------------------------------  2.5/2.5 MB 4.2 MB/s eta 0:00:01\n",
      "     ---------------------------------------  2.5/2.5 MB 3.7 MB/s eta 0:00:01\n",
      "     ---------------------------------------- 2.5/2.5 MB 3.6 MB/s eta 0:00:00\n",
      "Collecting contourpy>=1.0.1\n",
      "  Downloading contourpy-1.0.7-cp310-cp310-win_amd64.whl (162 kB)\n",
      "     ---------------------------------------- 0.0/163.0 kB ? eta -:--:--\n",
      "     ----------------------------------- -- 153.6/163.0 kB 9.0 MB/s eta 0:00:01\n",
      "     -------------------------------------- 163.0/163.0 kB 4.8 MB/s eta 0:00:00\n",
      "Requirement already satisfied: six>=1.5 in c:\\users\\mjaqu\\appdata\\roaming\\python\\python310\\site-packages (from python-dateutil>=2.7->matplotlib) (1.16.0)\n",
      "Installing collected packages: pyparsing, pillow, kiwisolver, fonttools, cycler, contourpy, matplotlib\n",
      "Successfully installed contourpy-1.0.7 cycler-0.11.0 fonttools-4.39.3 kiwisolver-1.4.4 matplotlib-3.7.1 pillow-9.5.0 pyparsing-3.0.9\n"
     ]
    }
   ],
   "source": [
    "!pip install matplotlib"
   ]
  },
  {
   "cell_type": "code",
   "execution_count": 3,
   "metadata": {},
   "outputs": [
    {
     "name": "stdout",
     "output_type": "stream",
     "text": [
      "Collecting seaborn\n",
      "  Downloading seaborn-0.12.2-py3-none-any.whl (293 kB)\n",
      "     ---------------------------------------- 0.0/293.3 kB ? eta -:--:--\n",
      "     -------------------------------------  286.7/293.3 kB 8.6 MB/s eta 0:00:01\n",
      "     -------------------------------------- 293.3/293.3 kB 6.0 MB/s eta 0:00:00\n",
      "Requirement already satisfied: matplotlib!=3.6.1,>=3.1 in c:\\users\\mjaqu\\appdata\\local\\programs\\python\\python310\\lib\\site-packages (from seaborn) (3.7.1)\n",
      "Requirement already satisfied: pandas>=0.25 in c:\\users\\mjaqu\\appdata\\local\\programs\\python\\python310\\lib\\site-packages (from seaborn) (2.0.0)\n",
      "Requirement already satisfied: numpy!=1.24.0,>=1.17 in c:\\users\\mjaqu\\appdata\\local\\programs\\python\\python310\\lib\\site-packages (from seaborn) (1.24.2)\n",
      "Requirement already satisfied: pyparsing>=2.3.1 in c:\\users\\mjaqu\\appdata\\local\\programs\\python\\python310\\lib\\site-packages (from matplotlib!=3.6.1,>=3.1->seaborn) (3.0.9)\n",
      "Requirement already satisfied: kiwisolver>=1.0.1 in c:\\users\\mjaqu\\appdata\\local\\programs\\python\\python310\\lib\\site-packages (from matplotlib!=3.6.1,>=3.1->seaborn) (1.4.4)\n",
      "Requirement already satisfied: packaging>=20.0 in c:\\users\\mjaqu\\appdata\\roaming\\python\\python310\\site-packages (from matplotlib!=3.6.1,>=3.1->seaborn) (23.0)\n",
      "Requirement already satisfied: fonttools>=4.22.0 in c:\\users\\mjaqu\\appdata\\local\\programs\\python\\python310\\lib\\site-packages (from matplotlib!=3.6.1,>=3.1->seaborn) (4.39.3)\n",
      "Requirement already satisfied: contourpy>=1.0.1 in c:\\users\\mjaqu\\appdata\\local\\programs\\python\\python310\\lib\\site-packages (from matplotlib!=3.6.1,>=3.1->seaborn) (1.0.7)\n",
      "Requirement already satisfied: pillow>=6.2.0 in c:\\users\\mjaqu\\appdata\\local\\programs\\python\\python310\\lib\\site-packages (from matplotlib!=3.6.1,>=3.1->seaborn) (9.5.0)\n",
      "Requirement already satisfied: cycler>=0.10 in c:\\users\\mjaqu\\appdata\\local\\programs\\python\\python310\\lib\\site-packages (from matplotlib!=3.6.1,>=3.1->seaborn) (0.11.0)\n",
      "Requirement already satisfied: python-dateutil>=2.7 in c:\\users\\mjaqu\\appdata\\roaming\\python\\python310\\site-packages (from matplotlib!=3.6.1,>=3.1->seaborn) (2.8.2)\n",
      "Requirement already satisfied: tzdata>=2022.1 in c:\\users\\mjaqu\\appdata\\local\\programs\\python\\python310\\lib\\site-packages (from pandas>=0.25->seaborn) (2023.3)\n",
      "Requirement already satisfied: pytz>=2020.1 in c:\\users\\mjaqu\\appdata\\local\\programs\\python\\python310\\lib\\site-packages (from pandas>=0.25->seaborn) (2023.3)\n",
      "Requirement already satisfied: six>=1.5 in c:\\users\\mjaqu\\appdata\\roaming\\python\\python310\\site-packages (from python-dateutil>=2.7->matplotlib!=3.6.1,>=3.1->seaborn) (1.16.0)\n",
      "Installing collected packages: seaborn\n",
      "Successfully installed seaborn-0.12.2\n"
     ]
    }
   ],
   "source": [
    "!pip install seaborn"
   ]
  },
  {
   "cell_type": "code",
   "execution_count": 4,
   "metadata": {},
   "outputs": [],
   "source": [
    "import pandas as pd\n",
    "import numpy as np\n",
    "import matplotlib.pyplot as plt\n",
    "import seaborn as sns"
   ]
  },
  {
   "cell_type": "code",
   "execution_count": 5,
   "metadata": {},
   "outputs": [
    {
     "ename": "TypeError",
     "evalue": "read_csv() missing 1 required positional argument: 'filepath_or_buffer'",
     "output_type": "error",
     "traceback": [
      "\u001b[1;31m---------------------------------------------------------------------------\u001b[0m",
      "\u001b[1;31mTypeError\u001b[0m                                 Traceback (most recent call last)",
      "Cell \u001b[1;32mIn[5], line 1\u001b[0m\n\u001b[1;32m----> 1\u001b[0m df \u001b[39m=\u001b[39m pd\u001b[39m.\u001b[39;49mread_csv()\n",
      "\u001b[1;31mTypeError\u001b[0m: read_csv() missing 1 required positional argument: 'filepath_or_buffer'"
     ]
    }
   ],
   "source": [
    "df = pd.read_csv('')"
   ]
  },
  {
   "attachments": {},
   "cell_type": "markdown",
   "metadata": {},
   "source": [
    "## Para fazer: Retirar colunas \"Id\", \"Metro\", \"Mean Unadjusted Salary (all occupations)\", \"Mean Software Developer Salary (adjusted)\", \"Cost of Living Plus Rent avg\" e renomear as restantes para: \n",
    "Sálario não ajustado,Número de empregos ,Valor da moradia ,Cidade ,Custo de vida ,Aluguel ,Poder de compra local(Média)  "
   ]
  }
 ],
 "metadata": {
  "kernelspec": {
   "display_name": "Python 3",
   "language": "python",
   "name": "python3"
  },
  "language_info": {
   "codemirror_mode": {
    "name": "ipython",
    "version": 3
   },
   "file_extension": ".py",
   "mimetype": "text/x-python",
   "name": "python",
   "nbconvert_exporter": "python",
   "pygments_lexer": "ipython3",
   "version": "3.10.10"
  },
  "orig_nbformat": 4,
  "vscode": {
   "interpreter": {
    "hash": "5238573367df39f7286bb46f9ff5f08f63a01a80960060ce41e3c79b190280fa"
   }
  }
 },
 "nbformat": 4,
 "nbformat_minor": 2
}
