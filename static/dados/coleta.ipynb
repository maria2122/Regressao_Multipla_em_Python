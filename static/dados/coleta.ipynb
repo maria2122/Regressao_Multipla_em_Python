{
 "cells": [
  {
   "attachments": {},
   "cell_type": "markdown",
   "metadata": {},
   "source": [
    "### Coleta dados"
   ]
  },
  {
   "cell_type": "code",
   "execution_count": 1,
   "metadata": {},
   "outputs": [
    {
     "name": "stdout",
     "output_type": "stream",
     "text": [
      "Defaulting to user installation because normal site-packages is not writeable\n",
      "Requirement already satisfied: pandas in c:\\users\\14892934690\\appdata\\roaming\\python\\python311\\site-packages (1.5.3)\n",
      "Requirement already satisfied: python-dateutil>=2.8.1 in c:\\users\\14892934690\\appdata\\roaming\\python\\python311\\site-packages (from pandas) (2.8.2)\n",
      "Requirement already satisfied: pytz>=2020.1 in c:\\users\\14892934690\\appdata\\roaming\\python\\python311\\site-packages (from pandas) (2022.7.1)\n",
      "Requirement already satisfied: numpy>=1.21.0 in c:\\users\\14892934690\\appdata\\roaming\\python\\python311\\site-packages (from pandas) (1.24.2)\n",
      "Requirement already satisfied: six>=1.5 in c:\\users\\14892934690\\appdata\\roaming\\python\\python311\\site-packages (from python-dateutil>=2.8.1->pandas) (1.16.0)\n"
     ]
    },
    {
     "name": "stderr",
     "output_type": "stream",
     "text": [
      "\n",
      "[notice] A new release of pip is available: 23.0 -> 23.0.1\n",
      "[notice] To update, run: python.exe -m pip install --upgrade pip\n"
     ]
    }
   ],
   "source": [
    "!pip install pandas"
   ]
  },
  {
   "cell_type": "code",
   "execution_count": 3,
   "metadata": {},
   "outputs": [
    {
     "name": "stdout",
     "output_type": "stream",
     "text": [
      "Defaulting to user installation because normal site-packages is not writeable\n",
      "Collecting matplotlib\n",
      "  Downloading matplotlib-3.7.1-cp311-cp311-win_amd64.whl (7.6 MB)\n",
      "     ---------------------------------------- 0.0/7.6 MB ? eta -:--:--\n",
      "     ---------------------------------------- 0.0/7.6 MB ? eta -:--:--\n",
      "     - -------------------------------------- 0.2/7.6 MB 2.4 MB/s eta 0:00:04\n",
      "     - -------------------------------------- 0.3/7.6 MB 2.4 MB/s eta 0:00:04\n",
      "     -- ------------------------------------- 0.4/7.6 MB 2.4 MB/s eta 0:00:04\n",
      "     -- ------------------------------------- 0.5/7.6 MB 2.3 MB/s eta 0:00:04\n",
      "     --- ------------------------------------ 0.6/7.6 MB 2.3 MB/s eta 0:00:04\n",
      "     --- ------------------------------------ 0.7/7.6 MB 2.4 MB/s eta 0:00:03\n",
      "     ---- ----------------------------------- 0.9/7.6 MB 2.4 MB/s eta 0:00:03\n",
      "     ----- ---------------------------------- 1.0/7.6 MB 2.4 MB/s eta 0:00:03\n",
      "     ----- ---------------------------------- 1.1/7.6 MB 2.4 MB/s eta 0:00:03\n",
      "     ------ --------------------------------- 1.2/7.6 MB 2.4 MB/s eta 0:00:03\n",
      "     ------- -------------------------------- 1.4/7.6 MB 2.5 MB/s eta 0:00:03\n",
      "     ------- -------------------------------- 1.5/7.6 MB 2.4 MB/s eta 0:00:03\n",
      "     -------- ------------------------------- 1.6/7.6 MB 2.5 MB/s eta 0:00:03\n",
      "     --------- ------------------------------ 1.7/7.6 MB 2.5 MB/s eta 0:00:03\n",
      "     --------- ------------------------------ 1.9/7.6 MB 2.5 MB/s eta 0:00:03\n",
      "     ---------- ----------------------------- 2.0/7.6 MB 2.5 MB/s eta 0:00:03\n",
      "     ----------- ---------------------------- 2.1/7.6 MB 2.6 MB/s eta 0:00:03\n",
      "     ----------- ---------------------------- 2.3/7.6 MB 2.6 MB/s eta 0:00:03\n",
      "     ------------ --------------------------- 2.4/7.6 MB 2.6 MB/s eta 0:00:02\n",
      "     ------------- -------------------------- 2.6/7.6 MB 2.6 MB/s eta 0:00:02\n",
      "     -------------- ------------------------- 2.7/7.6 MB 2.7 MB/s eta 0:00:02\n",
      "     -------------- ------------------------- 2.9/7.6 MB 2.7 MB/s eta 0:00:02\n",
      "     --------------- ------------------------ 3.0/7.6 MB 2.7 MB/s eta 0:00:02\n",
      "     ---------------- ----------------------- 3.2/7.6 MB 2.8 MB/s eta 0:00:02\n",
      "     ----------------- ---------------------- 3.3/7.6 MB 2.8 MB/s eta 0:00:02\n",
      "     ------------------ --------------------- 3.5/7.6 MB 2.8 MB/s eta 0:00:02\n",
      "     ------------------- -------------------- 3.6/7.6 MB 2.8 MB/s eta 0:00:02\n",
      "     ------------------- -------------------- 3.8/7.6 MB 2.9 MB/s eta 0:00:02\n",
      "     -------------------- ------------------- 3.9/7.6 MB 2.8 MB/s eta 0:00:02\n",
      "     --------------------- ------------------ 4.0/7.6 MB 2.8 MB/s eta 0:00:02\n",
      "     --------------------- ------------------ 4.2/7.6 MB 2.8 MB/s eta 0:00:02\n",
      "     ---------------------- ----------------- 4.3/7.6 MB 2.8 MB/s eta 0:00:02\n",
      "     ----------------------- ---------------- 4.4/7.6 MB 2.8 MB/s eta 0:00:02\n",
      "     ----------------------- ---------------- 4.5/7.6 MB 2.8 MB/s eta 0:00:02\n",
      "     ------------------------ --------------- 4.6/7.6 MB 2.8 MB/s eta 0:00:02\n",
      "     ------------------------- -------------- 4.8/7.6 MB 2.8 MB/s eta 0:00:02\n",
      "     ------------------------- -------------- 4.9/7.6 MB 2.8 MB/s eta 0:00:01\n",
      "     -------------------------- ------------- 5.0/7.6 MB 2.8 MB/s eta 0:00:01\n",
      "     --------------------------- ------------ 5.2/7.6 MB 2.8 MB/s eta 0:00:01\n",
      "     --------------------------- ------------ 5.3/7.6 MB 2.8 MB/s eta 0:00:01\n",
      "     ---------------------------- ----------- 5.4/7.6 MB 2.8 MB/s eta 0:00:01\n",
      "     ----------------------------- ---------- 5.6/7.6 MB 2.8 MB/s eta 0:00:01\n",
      "     ------------------------------ --------- 5.7/7.6 MB 2.8 MB/s eta 0:00:01\n",
      "     ------------------------------ --------- 5.9/7.6 MB 2.8 MB/s eta 0:00:01\n",
      "     ------------------------------- -------- 6.0/7.6 MB 2.8 MB/s eta 0:00:01\n",
      "     -------------------------------- ------- 6.2/7.6 MB 2.9 MB/s eta 0:00:01\n",
      "     --------------------------------- ------ 6.3/7.6 MB 2.9 MB/s eta 0:00:01\n",
      "     ---------------------------------- ----- 6.5/7.6 MB 2.9 MB/s eta 0:00:01\n",
      "     ---------------------------------- ----- 6.7/7.6 MB 2.9 MB/s eta 0:00:01\n",
      "     ----------------------------------- ---- 6.8/7.6 MB 2.9 MB/s eta 0:00:01\n",
      "     ------------------------------------ --- 7.0/7.6 MB 2.9 MB/s eta 0:00:01\n",
      "     ------------------------------------- -- 7.2/7.6 MB 2.9 MB/s eta 0:00:01\n",
      "     -------------------------------------- - 7.3/7.6 MB 3.0 MB/s eta 0:00:01\n",
      "     ---------------------------------------  7.5/7.6 MB 3.0 MB/s eta 0:00:01\n",
      "     ---------------------------------------  7.6/7.6 MB 3.0 MB/s eta 0:00:01\n",
      "     ---------------------------------------- 7.6/7.6 MB 2.9 MB/s eta 0:00:00\n",
      "Collecting contourpy>=1.0.1\n",
      "  Downloading contourpy-1.0.7-cp311-cp311-win_amd64.whl (162 kB)\n",
      "     ---------------------------------------- 0.0/163.0 kB ? eta -:--:--\n",
      "     ----------------------------------- -- 153.6/163.0 kB 3.1 MB/s eta 0:00:01\n",
      "     -------------------------------------- 163.0/163.0 kB 3.2 MB/s eta 0:00:00\n",
      "Collecting cycler>=0.10\n",
      "  Downloading cycler-0.11.0-py3-none-any.whl (6.4 kB)\n",
      "Collecting fonttools>=4.22.0\n",
      "  Downloading fonttools-4.39.2-py3-none-any.whl (1.0 MB)\n",
      "     ---------------------------------------- 0.0/1.0 MB ? eta -:--:--\n",
      "     ------ --------------------------------- 0.2/1.0 MB 5.3 MB/s eta 0:00:01\n",
      "     ------------- -------------------------- 0.3/1.0 MB 4.2 MB/s eta 0:00:01\n",
      "     -------------------- ------------------- 0.5/1.0 MB 4.1 MB/s eta 0:00:01\n",
      "     --------------------------- ------------ 0.7/1.0 MB 4.0 MB/s eta 0:00:01\n",
      "     ----------------------------------- ---- 0.9/1.0 MB 4.0 MB/s eta 0:00:01\n",
      "     ---------------------------------------  1.0/1.0 MB 4.0 MB/s eta 0:00:01\n",
      "     ---------------------------------------- 1.0/1.0 MB 3.8 MB/s eta 0:00:00\n",
      "Collecting kiwisolver>=1.0.1\n",
      "  Downloading kiwisolver-1.4.4-cp311-cp311-win_amd64.whl (55 kB)\n",
      "     ---------------------------------------- 0.0/55.4 kB ? eta -:--:--\n",
      "     ---------------------------------------- 55.4/55.4 kB 2.8 MB/s eta 0:00:00\n",
      "Requirement already satisfied: numpy>=1.20 in c:\\users\\14892934690\\appdata\\roaming\\python\\python311\\site-packages (from matplotlib) (1.24.2)\n",
      "Requirement already satisfied: packaging>=20.0 in c:\\users\\14892934690\\appdata\\roaming\\python\\python311\\site-packages (from matplotlib) (23.0)\n",
      "Collecting pillow>=6.2.0\n",
      "  Downloading Pillow-9.4.0-cp311-cp311-win_amd64.whl (2.5 MB)\n",
      "     ---------------------------------------- 0.0/2.5 MB ? eta -:--:--\n",
      "     --- ------------------------------------ 0.2/2.5 MB 5.8 MB/s eta 0:00:01\n",
      "     ------ --------------------------------- 0.4/2.5 MB 4.0 MB/s eta 0:00:01\n",
      "     --------- ------------------------------ 0.6/2.5 MB 4.0 MB/s eta 0:00:01\n",
      "     ------------ --------------------------- 0.8/2.5 MB 4.1 MB/s eta 0:00:01\n",
      "     --------------- ------------------------ 1.0/2.5 MB 4.4 MB/s eta 0:00:01\n",
      "     ------------------- -------------------- 1.2/2.5 MB 4.2 MB/s eta 0:00:01\n",
      "     ---------------------- ----------------- 1.4/2.5 MB 4.4 MB/s eta 0:00:01\n",
      "     ------------------------- -------------- 1.6/2.5 MB 4.4 MB/s eta 0:00:01\n",
      "     ----------------------------- ---------- 1.8/2.5 MB 4.4 MB/s eta 0:00:01\n",
      "     -------------------------------- ------- 2.0/2.5 MB 4.4 MB/s eta 0:00:01\n",
      "     ------------------------------------ --- 2.2/2.5 MB 4.5 MB/s eta 0:00:01\n",
      "     ---------------------------------------  2.4/2.5 MB 4.5 MB/s eta 0:00:01\n",
      "     ---------------------------------------- 2.5/2.5 MB 4.3 MB/s eta 0:00:00\n",
      "Collecting pyparsing>=2.3.1\n",
      "  Downloading pyparsing-3.0.9-py3-none-any.whl (98 kB)\n",
      "     ---------------------------------------- 0.0/98.3 kB ? eta -:--:--\n",
      "     ---------------------------------------- 98.3/98.3 kB 5.5 MB/s eta 0:00:00\n",
      "Requirement already satisfied: python-dateutil>=2.7 in c:\\users\\14892934690\\appdata\\roaming\\python\\python311\\site-packages (from matplotlib) (2.8.2)\n",
      "Requirement already satisfied: six>=1.5 in c:\\users\\14892934690\\appdata\\roaming\\python\\python311\\site-packages (from python-dateutil>=2.7->matplotlib) (1.16.0)\n",
      "Installing collected packages: pyparsing, pillow, kiwisolver, fonttools, cycler, contourpy, matplotlib\n",
      "Successfully installed contourpy-1.0.7 cycler-0.11.0 fonttools-4.39.2 kiwisolver-1.4.4 matplotlib-3.7.1 pillow-9.4.0 pyparsing-3.0.9\n"
     ]
    },
    {
     "name": "stderr",
     "output_type": "stream",
     "text": [
      "  WARNING: The scripts fonttools.exe, pyftmerge.exe, pyftsubset.exe and ttx.exe are installed in 'C:\\Users\\14892934690\\AppData\\Roaming\\Python\\Python311\\Scripts' which is not on PATH.\n",
      "  Consider adding this directory to PATH or, if you prefer to suppress this warning, use --no-warn-script-location.\n",
      "\n",
      "[notice] A new release of pip is available: 23.0 -> 23.0.1\n",
      "[notice] To update, run: python.exe -m pip install --upgrade pip\n"
     ]
    }
   ],
   "source": [
    "!pip install matplotlib"
   ]
  },
  {
   "cell_type": "code",
   "execution_count": 5,
   "metadata": {},
   "outputs": [
    {
     "name": "stdout",
     "output_type": "stream",
     "text": [
      "Defaulting to user installation because normal site-packages is not writeable\n",
      "Collecting seaborn\n",
      "  Downloading seaborn-0.12.2-py3-none-any.whl (293 kB)\n",
      "     ---------------------------------------- 0.0/293.3 kB ? eta -:--:--\n",
      "     --------- ----------------------------- 71.7/293.3 kB 2.0 MB/s eta 0:00:01\n",
      "     -------------------------------------  286.7/293.3 kB 3.5 MB/s eta 0:00:01\n",
      "     -------------------------------------- 293.3/293.3 kB 3.0 MB/s eta 0:00:00\n",
      "Requirement already satisfied: numpy!=1.24.0,>=1.17 in c:\\users\\14892934690\\appdata\\roaming\\python\\python311\\site-packages (from seaborn) (1.24.2)\n",
      "Requirement already satisfied: pandas>=0.25 in c:\\users\\14892934690\\appdata\\roaming\\python\\python311\\site-packages (from seaborn) (1.5.3)\n",
      "Requirement already satisfied: matplotlib!=3.6.1,>=3.1 in c:\\users\\14892934690\\appdata\\roaming\\python\\python311\\site-packages (from seaborn) (3.7.1)\n",
      "Requirement already satisfied: contourpy>=1.0.1 in c:\\users\\14892934690\\appdata\\roaming\\python\\python311\\site-packages (from matplotlib!=3.6.1,>=3.1->seaborn) (1.0.7)\n",
      "Requirement already satisfied: cycler>=0.10 in c:\\users\\14892934690\\appdata\\roaming\\python\\python311\\site-packages (from matplotlib!=3.6.1,>=3.1->seaborn) (0.11.0)\n",
      "Requirement already satisfied: fonttools>=4.22.0 in c:\\users\\14892934690\\appdata\\roaming\\python\\python311\\site-packages (from matplotlib!=3.6.1,>=3.1->seaborn) (4.39.2)\n",
      "Requirement already satisfied: kiwisolver>=1.0.1 in c:\\users\\14892934690\\appdata\\roaming\\python\\python311\\site-packages (from matplotlib!=3.6.1,>=3.1->seaborn) (1.4.4)\n",
      "Requirement already satisfied: packaging>=20.0 in c:\\users\\14892934690\\appdata\\roaming\\python\\python311\\site-packages (from matplotlib!=3.6.1,>=3.1->seaborn) (23.0)\n",
      "Requirement already satisfied: pillow>=6.2.0 in c:\\users\\14892934690\\appdata\\roaming\\python\\python311\\site-packages (from matplotlib!=3.6.1,>=3.1->seaborn) (9.4.0)\n",
      "Requirement already satisfied: pyparsing>=2.3.1 in c:\\users\\14892934690\\appdata\\roaming\\python\\python311\\site-packages (from matplotlib!=3.6.1,>=3.1->seaborn) (3.0.9)\n",
      "Requirement already satisfied: python-dateutil>=2.7 in c:\\users\\14892934690\\appdata\\roaming\\python\\python311\\site-packages (from matplotlib!=3.6.1,>=3.1->seaborn) (2.8.2)\n",
      "Requirement already satisfied: pytz>=2020.1 in c:\\users\\14892934690\\appdata\\roaming\\python\\python311\\site-packages (from pandas>=0.25->seaborn) (2022.7.1)\n",
      "Requirement already satisfied: six>=1.5 in c:\\users\\14892934690\\appdata\\roaming\\python\\python311\\site-packages (from python-dateutil>=2.7->matplotlib!=3.6.1,>=3.1->seaborn) (1.16.0)\n",
      "Installing collected packages: seaborn\n",
      "Successfully installed seaborn-0.12.2\n"
     ]
    },
    {
     "name": "stderr",
     "output_type": "stream",
     "text": [
      "\n",
      "[notice] A new release of pip is available: 23.0 -> 23.0.1\n",
      "[notice] To update, run: python.exe -m pip install --upgrade pip\n"
     ]
    }
   ],
   "source": [
    "!pip install seaborn"
   ]
  },
  {
   "cell_type": "code",
   "execution_count": 6,
   "metadata": {},
   "outputs": [],
   "source": [
    "import pandas as pd\n",
    "import numpy as np\n",
    "import matplotlib.pyplot as plt\n",
    "import seaborn as sns"
   ]
  },
  {
   "cell_type": "code",
   "execution_count": null,
   "metadata": {},
   "outputs": [],
   "source": [
    "df = pd.read_csv()"
   ]
  }
 ],
 "metadata": {
  "kernelspec": {
   "display_name": "Python 3",
   "language": "python",
   "name": "python3"
  },
  "language_info": {
   "codemirror_mode": {
    "name": "ipython",
    "version": 3
   },
   "file_extension": ".py",
   "mimetype": "text/x-python",
   "name": "python",
   "nbconvert_exporter": "python",
   "pygments_lexer": "ipython3",
   "version": "3.11.1"
  },
  "orig_nbformat": 4,
  "vscode": {
   "interpreter": {
    "hash": "5238573367df39f7286bb46f9ff5f08f63a01a80960060ce41e3c79b190280fa"
   }
  }
 },
 "nbformat": 4,
 "nbformat_minor": 2
}
